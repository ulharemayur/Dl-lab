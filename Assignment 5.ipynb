{
 "cells": [
  {
   "cell_type": "code",
   "execution_count": 5,
   "id": "90a370aa",
   "metadata": {},
   "outputs": [],
   "source": [
    "import matplotlib.pyplot as plt\n",
    "import seaborn as sns\n",
    "import matplotlib as mpl\n",
    "import matplotlib.pylab as pylab\n",
    "import numpy as np"
   ]
  },
  {
   "cell_type": "code",
   "execution_count": 6,
   "id": "ec77dd5b",
   "metadata": {},
   "outputs": [],
   "source": [
    "import re\n",
    "sentences = \"\"\"We are about to study the idea of computational proces. Computational processes are abstract beings that inhabit computers. As they evolve. processes manipulate other abstract things called data. The evolution of a process is directed by a pattern of rules called a program. People create programs to direct processes. In effect, we conjure the spirits of the computer with out spells.\"\"\""
   ]
  },
  {
   "cell_type": "code",
   "execution_count": 7,
   "id": "136a8752",
   "metadata": {},
   "outputs": [
    {
     "name": "stdout",
     "output_type": "stream",
     "text": [
      "We are about to study the idea of computational proces Computational processes are abstract beings that inhabit computers As they evolve processes manipulate other abstract things called data The evolution of a process is directed by a pattern of rules called a program People create programs to direct processes In effect we conjure the spirits of the computer with out spells \n"
     ]
    }
   ],
   "source": [
    "sentences = re.sub('[^A-Za-z0-9]+',' ', sentences)\n",
    "print(sentences)"
   ]
  },
  {
   "cell_type": "code",
   "execution_count": 8,
   "id": "a74f7d28",
   "metadata": {},
   "outputs": [
    {
     "name": "stdout",
     "output_type": "stream",
     "text": [
      "We are about to study the idea of computational proces Computational processes are abstract beings that inhabit computers As they evolve processes manipulate other abstract things called data The evolution of process is directed by pattern of rules called program People create programs to direct processes In effect we conjure the spirits of the computer with out spells\n"
     ]
    }
   ],
   "source": [
    "sentences = re.sub(r'(?:^| )\\w(?:$| )', ' ',sentences).strip()\n",
    "print(sentences)"
   ]
  },
  {
   "cell_type": "code",
   "execution_count": 9,
   "id": "a560b9f0",
   "metadata": {},
   "outputs": [],
   "source": [
    "sentences = sentences.lower()"
   ]
  },
  {
   "cell_type": "code",
   "execution_count": 10,
   "id": "2c400026",
   "metadata": {},
   "outputs": [
    {
     "name": "stdout",
     "output_type": "stream",
     "text": [
      "['we', 'are', 'about', 'to', 'study', 'the', 'idea', 'of', 'computational', 'proces', 'computational', 'processes', 'are', 'abstract', 'beings', 'that', 'inhabit', 'computers', 'as', 'they', 'evolve', 'processes', 'manipulate', 'other', 'abstract', 'things', 'called', 'data', 'the', 'evolution', 'of', 'process', 'is', 'directed', 'by', 'pattern', 'of', 'rules', 'called', 'program', 'people', 'create', 'programs', 'to', 'direct', 'processes', 'in', 'effect', 'we', 'conjure', 'the', 'spirits', 'of', 'the', 'computer', 'with', 'out', 'spells']\n"
     ]
    }
   ],
   "source": [
    "words = sentences.split()\n",
    "print(words)"
   ]
  },
  {
   "cell_type": "code",
   "execution_count": 11,
   "id": "cf4e5d1e",
   "metadata": {},
   "outputs": [
    {
     "name": "stdout",
     "output_type": "stream",
     "text": [
      "{'of', 'effect', 'evolution', 'proces', 'things', 'beings', 'evolve', 'about', 'abstract', 'by', 'as', 'to', 'that', 'is', 'computational', 'people', 'manipulate', 'computer', 'inhabit', 'process', 'computers', 'with', 'create', 'conjure', 'data', 'direct', 'processes', 'rules', 'called', 'we', 'are', 'pattern', 'study', 'other', 'in', 'spirits', 'they', 'directed', 'out', 'spells', 'program', 'programs', 'idea', 'the'}\n"
     ]
    }
   ],
   "source": [
    "vocab = set(words)\n",
    "print(vocab)"
   ]
  },
  {
   "cell_type": "code",
   "execution_count": 12,
   "id": "b3a57c67",
   "metadata": {},
   "outputs": [],
   "source": [
    "# words = sentences.split()\n",
    "# vocab = set(words)\n",
    "vocab_size = len(vocab)\n",
    "embed_dim = 10\n",
    "context_size = 2"
   ]
  },
  {
   "cell_type": "code",
   "execution_count": 13,
   "id": "652751ec",
   "metadata": {},
   "outputs": [
    {
     "name": "stdout",
     "output_type": "stream",
     "text": [
      "{'of': 0, 'effect': 1, 'evolution': 2, 'proces': 3, 'things': 4, 'beings': 5, 'evolve': 6, 'about': 7, 'abstract': 8, 'by': 9, 'as': 10, 'to': 11, 'that': 12, 'is': 13, 'computational': 14, 'people': 15, 'manipulate': 16, 'computer': 17, 'inhabit': 18, 'process': 19, 'computers': 20, 'with': 21, 'create': 22, 'conjure': 23, 'data': 24, 'direct': 25, 'processes': 26, 'rules': 27, 'called': 28, 'we': 29, 'are': 30, 'pattern': 31, 'study': 32, 'other': 33, 'in': 34, 'spirits': 35, 'they': 36, 'directed': 37, 'out': 38, 'spells': 39, 'program': 40, 'programs': 41, 'idea': 42, 'the': 43}\n"
     ]
    }
   ],
   "source": [
    "word_to_ix = {word: i for  i, word in enumerate(vocab)}\n",
    "print(word_to_ix)"
   ]
  },
  {
   "cell_type": "code",
   "execution_count": 14,
   "id": "4d516ba3",
   "metadata": {},
   "outputs": [
    {
     "name": "stdout",
     "output_type": "stream",
     "text": [
      "{0: 'of', 1: 'effect', 2: 'evolution', 3: 'proces', 4: 'things', 5: 'beings', 6: 'evolve', 7: 'about', 8: 'abstract', 9: 'by', 10: 'as', 11: 'to', 12: 'that', 13: 'is', 14: 'computational', 15: 'people', 16: 'manipulate', 17: 'computer', 18: 'inhabit', 19: 'process', 20: 'computers', 21: 'with', 22: 'create', 23: 'conjure', 24: 'data', 25: 'direct', 26: 'processes', 27: 'rules', 28: 'called', 29: 'we', 30: 'are', 31: 'pattern', 32: 'study', 33: 'other', 34: 'in', 35: 'spirits', 36: 'they', 37: 'directed', 38: 'out', 39: 'spells', 40: 'program', 41: 'programs', 42: 'idea', 43: 'the'}\n"
     ]
    }
   ],
   "source": [
    "ix_to_word = {i: word for i, word in enumerate(vocab)}\n",
    "print(ix_to_word)"
   ]
  },
  {
   "cell_type": "code",
   "execution_count": 17,
   "id": "a42fd442",
   "metadata": {},
   "outputs": [
    {
     "name": "stdout",
     "output_type": "stream",
     "text": [
      "[(['we', 'are', 'to', 'study'], 'about'), (['are', 'about', 'study', 'the'], 'to'), (['about', 'to', 'the', 'idea'], 'study'), (['to', 'study', 'idea', 'of'], 'the'), (['study', 'the', 'of', 'computational'], 'idea')]\n",
      "length:  54\n"
     ]
    }
   ],
   "source": [
    "data = []\n",
    "for i in range(2, len(words)- 2):\n",
    "    context = [words[i - 2],words[i - 1],words[i + 1],words[i + 2]]\n",
    "    target = words[i]\n",
    "    data.append((context,target))\n",
    "print(data[:5])\n",
    "print(\"length: \",len(data))"
   ]
  },
  {
   "cell_type": "code",
   "execution_count": 19,
   "id": "cecc3965",
   "metadata": {},
   "outputs": [],
   "source": [
    "embeddings = np.random.random_sample((vocab_size,embed_dim))\n",
    "# print(embeddings)"
   ]
  },
  {
   "cell_type": "code",
   "execution_count": 20,
   "id": "fb879378",
   "metadata": {},
   "outputs": [],
   "source": [
    "def linear(m, theta):\n",
    "    w = theta\n",
    "    return m.dot(w)"
   ]
  },
  {
   "cell_type": "code",
   "execution_count": 21,
   "id": "db0b9467",
   "metadata": {},
   "outputs": [],
   "source": [
    "def log_softmax(x):\n",
    "    e_x = np.exp(x - np.max(x))\n",
    "    return np.log(e_x/e_x.sum())\n",
    "def NLLLoss(logs, targets):\n",
    "    out = logs[range(len(targets)), targets]\n",
    "    return -out.sum()/len(out)\n",
    "def log_softmax_crossentropy_with_logits(logits,target):\n",
    "    out = np.zeros_like(logits)\n",
    "    out[np.arange(len(logits)),target] = 1\n",
    "    softmax = np.exp(logits) / np.exp(logits).sum(axis=-1,keepdims=True)\n",
    "    return(- out + softmax) / logits.shape[0]"
   ]
  },
  {
   "cell_type": "code",
   "execution_count": 22,
   "id": "af54cd4a",
   "metadata": {},
   "outputs": [],
   "source": [
    "def forward(contect_idxs, theta):\n",
    "    m = embeddings[contect_idxs].reshape(1,-1)\n",
    "    n = linear(m,theta)\n",
    "    o = log_softmax(n)\n",
    "    return m, n, o"
   ]
  },
  {
   "cell_type": "code",
   "execution_count": 23,
   "id": "4a5c09f8",
   "metadata": {},
   "outputs": [],
   "source": [
    "def backward(preds, theta, target_idxs):\n",
    "    m, n, o = preds\n",
    "    dlog = log_softmax_crossentropy_with_logits(n, target_idxs)\n",
    "    dw = m.T.dot(dlog)\n",
    "    return dw"
   ]
  },
  {
   "cell_type": "code",
   "execution_count": 25,
   "id": "7396509c",
   "metadata": {},
   "outputs": [],
   "source": [
    "def optimize(theta, grad, lr=0.03):\n",
    "    theta -= grad * lr\n",
    "    return theta"
   ]
  },
  {
   "cell_type": "code",
   "execution_count": 26,
   "id": "56744fe4",
   "metadata": {},
   "outputs": [
    {
     "data": {
      "text/plain": [
       "Text(0, 0.5, 'Losses')"
      ]
     },
     "execution_count": 26,
     "metadata": {},
     "output_type": "execute_result"
    },
    {
     "data": {
      "image/png": "[encoded data removed]",
      "text/plain": [
       "<Figure size 640x480 with 1 Axes>"
      ]
     },
     "metadata": {},
     "output_type": "display_data"
    }
   ],
   "source": [
    "theta = np.random.uniform(-1, 1, (2 * context_size * embed_dim, vocab_size))\n",
    "epoch_losses = {}\n",
    "for epoch in range(80):\n",
    "    losses = []\n",
    "    for context, target in data:\n",
    "        contect_idxs = np.array([word_to_ix[w] for w in context])\n",
    "        preds = forward(contect_idxs, theta)\n",
    "        target_idxs = np.array([word_to_ix[target]])\n",
    "        loss = NLLLoss(preds[-1], target_idxs)\n",
    "        losses.append(loss)\n",
    "        grad = backward(preds, theta, target_idxs)\n",
    "        theta = optimize(theta, grad, lr=0.03)\n",
    "    epoch_losses[epoch] = losses\n",
    "    ix = np.arange(0,80)\n",
    "fig = plt.figure()\n",
    "fig.suptitle('Epoch/Losses', fontsize=20)\n",
    "plt.plot(ix, [epoch_losses[i][0] for i in ix])\n",
    "plt.xlabel('Epochs',fontsize=12)\n",
    "plt.ylabel('Losses',fontsize=12)\n",
    "#Text(0, 0.5, 'Losses')"
   ]
  },
  {
   "cell_type": "code",
   "execution_count": 27,
   "id": "2e1ff358",
   "metadata": {},
   "outputs": [],
   "source": [
    "def predict(words):\n",
    "    context_idxs = np.array([word_to_ix[w] for w in words])\n",
    "    preds = forward(context_idxs, theta)\n",
    "    word = ix_to_word[np.argmax(preds[-1])]\n",
    "    return word"
   ]
  },
  {
   "cell_type": "code",
   "execution_count": 28,
   "id": "b4c6b414",
   "metadata": {},
   "outputs": [
    {
     "data": {
      "text/plain": [
       "'other'"
      ]
     },
     "execution_count": 28,
     "metadata": {},
     "output_type": "execute_result"
    }
   ],
   "source": [
    "def accuracy():\n",
    "    wrong = 0\n",
    "    for context, target in data:\n",
    "        if(predict(context) != target):\n",
    "            wrong += 1\n",
    "    return(1 - (wrong / len(data)))\n",
    "accuracy()\n",
    "predict(['processes','manipulate','things','study'])"
   ]
  },
  {
   "cell_type": "code",
   "execution_count": null,
   "id": "499d74b1",
   "metadata": {},
   "outputs": [],
   "source": []
  }
 ],
 "metadata": {
  "kernelspec": {
   "display_name": "Python 3 (ipykernel)",
   "language": "python",
   "name": "python3"
  },
  "language_info": {
   "codemirror_mode": {
    "name": "ipython",
    "version": 3
   },
   "file_extension": ".py",
   "mimetype": "text/x-python",
   "name": "python",
   "nbconvert_exporter": "python",
   "pygments_lexer": "ipython3",
   "version": "3.10.8"
  }
 },
 "nbformat": 4,
 "nbformat_minor": 5
}
